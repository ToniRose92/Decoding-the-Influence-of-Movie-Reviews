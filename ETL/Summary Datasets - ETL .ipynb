{
 "cells": [
  {
   "cell_type": "markdown",
   "id": "3a70802d",
   "metadata": {
    "toc": true
   },
   "source": [
    "<h1>Table of Contents<span class=\"tocSkip\"></span></h1>\n",
    "<div class=\"toc\"><ul class=\"toc-item\"><li><span><a href=\"#Cleaning-groups-of-data-from-csv-files-date-columns-and-formats\" data-toc-modified-id=\"Cleaning-groups-of-data-from-csv-files-date-columns-and-formats-1\"><span class=\"toc-item-num\">1&nbsp;&nbsp;</span>Cleaning groups of data from csv files date columns and formats</a></span><ul class=\"toc-item\"><li><ul class=\"toc-item\"><li><span><a href=\"#fixing-dates-and-addressing-money-and-percent-columns-for-the-summary-files.\" data-toc-modified-id=\"fixing-dates-and-addressing-money-and-percent-columns-for-the-summary-files.-1.0.1\"><span class=\"toc-item-num\">1.0.1&nbsp;&nbsp;</span>fixing dates and addressing money and percent columns for the summary files.</a></span></li></ul></li></ul></li><li><span><a href=\"#Processing-to-make-comparing-to-other-data-easier\" data-toc-modified-id=\"Processing-to-make-comparing-to-other-data-easier-2\"><span class=\"toc-item-num\">2&nbsp;&nbsp;</span>Processing to make comparing to other data easier</a></span></li></ul></div>"
   ]
  },
  {
   "cell_type": "markdown",
   "id": "e98b4b74",
   "metadata": {},
   "source": []
  },
  {
   "cell_type": "code",
   "execution_count": 1,
   "id": "82a033e3",
   "metadata": {
    "run_control": {
     "marked": false
    }
   },
   "outputs": [
    {
     "name": "stdout",
     "output_type": "stream",
     "text": [
      "importing Jupyter notebook from common_imports.ipynb\n",
      "importing Jupyter notebook from capstone_functions.ipynb\n"
     ]
    }
   ],
   "source": [
    "import import_ipynb\n",
    "from common_imports import *\n",
    "from capstone_functions import *"
   ]
  },
  {
   "cell_type": "markdown",
   "id": "5a3da17e",
   "metadata": {},
   "source": [
    "## Cleaning groups of data from csv files date columns and formats"
   ]
  },
  {
   "cell_type": "markdown",
   "id": "91aaeb8a",
   "metadata": {},
   "source": [
    "#### fixing dates and addressing money and percent columns for the summary files."
   ]
  },
  {
   "cell_type": "code",
   "execution_count": 2,
   "id": "fe30475c",
   "metadata": {},
   "outputs": [],
   "source": [
    "def clean_split_date(df, date_column, filename):\n",
    "    # Split date column into separate columns\n",
    "    df[['Start_Date', 'End_Date_ft']] = df['date'].str.split('-', expand=True)\n",
    "    \n",
    "    # Extract year from filename\n",
    "    year = str(filename[-8:-4])\n",
    "\n",
    "    # Clean start date column\n",
    "    df[['Start_Month', 'Start_Day']] = df['Start_Date'].str.split(' ', expand=True)\n",
    "    df['Start_Year'] = year\n",
    "    \n",
    "    # Clean end date column\n",
    "    # if month is present in End_Date\n",
    "    df[['End_Month', 'End_Day']] = df['End_Date_ft'].str.split(' ', expand=True)\n",
    "    \n",
    "    # If End_Day is null, then set End_Month == Start_Month and End_Day == End_Date_ft\n",
    "    if df['End_Day'].isnull().all():\n",
    "        df['End_Month'] = df['Start_Month']\n",
    "        df['End_Day'] = df['End_Date_ft']\n",
    "        df['End_Year'] = year\n",
    "    else:\n",
    "        # If End_Day is not null, set End_Day to the corresponding values in End_Date_ft where it is null\n",
    "        null_mask = df['End_Day'].isnull()\n",
    "        df.loc[null_mask, 'End_Day'] = df.loc[null_mask, 'End_Date_ft']\n",
    "        # Set End_Month to Start_Month for the corresponding rows where End_Day was null\n",
    "        df.loc[null_mask, 'End_Month'] = df.loc[null_mask, 'Start_Month']\n",
    "        df['End_Year'] = year\n",
    "    \n",
    "    # Check if end year should be incremented by 1\n",
    "    if ((df['Start_Month'] == 'Dec') & (df['End_Month'] == 'Jan')).any():\n",
    "        # Only update rows where Start_Month is Dec and End_Month is Jan\n",
    "        mask = (df['Start_Month'] == 'Dec') & (df['End_Month'] == 'Jan')\n",
    "        df.loc[mask, 'End_Year'] = int(year) + 1\n",
    "          \n",
    "    df['End_Year'] = df['End_Year'].astype(str) \n",
    "    \n",
    "    #print('date columns:',df[['End_Month', 'End_Day', 'End_Year', 'Start_Year']].head())\n",
    "    #print('dec and jan:',((df['Start_Month'] == 'Dec') & (df['End_Month'] == 'Jan')).any())\n",
    "    \n",
    "    # Convert date columns to datetime format\n",
    "    df['Start_Date'] = pd.to_datetime(df['Start_Month'] + ' ' + df['Start_Day'] + ' ' + df['Start_Year'])\n",
    "    df['End_Date'] = pd.to_datetime(df['End_Month'] + ' ' + df['End_Day'] + ' ' + df['End_Year'], errors='coerce')\n",
    "\n",
    "    # Drop intermediate columns\n",
    "    df.drop(columns=['End_Date_ft', 'date'], inplace=True)\n",
    "    \n",
    "    return df\n",
    "\n"
   ]
  },
  {
   "cell_type": "markdown",
   "id": "2217f7ee",
   "metadata": {},
   "source": [
    "clean_split_date is specifially designed to go through all of the summary files. "
   ]
  },
  {
   "cell_type": "code",
   "execution_count": 3,
   "id": "cd675952",
   "metadata": {
    "scrolled": true
   },
   "outputs": [
    {
     "name": "stderr",
     "output_type": "stream",
     "text": [
      "/var/folders/wf/_x5mxls94p92t_39895yg9pm0000gq/T/ipykernel_9397/1402016753.py:19: FutureWarning: The default value of regex will change from True to False in a future version. In addition, single character regular expressions will *not* be treated as literal strings when regex=True.\n",
      "  lambda x: pd.to_numeric(x.str.replace('$', '').str.replace(',', ''), errors='coerce')).round(2)\n",
      "/var/folders/wf/_x5mxls94p92t_39895yg9pm0000gq/T/ipykernel_9397/1402016753.py:19: FutureWarning: The default value of regex will change from True to False in a future version. In addition, single character regular expressions will *not* be treated as literal strings when regex=True.\n",
      "  lambda x: pd.to_numeric(x.str.replace('$', '').str.replace(',', ''), errors='coerce')).round(2)\n",
      "/var/folders/wf/_x5mxls94p92t_39895yg9pm0000gq/T/ipykernel_9397/1402016753.py:19: FutureWarning: The default value of regex will change from True to False in a future version. In addition, single character regular expressions will *not* be treated as literal strings when regex=True.\n",
      "  lambda x: pd.to_numeric(x.str.replace('$', '').str.replace(',', ''), errors='coerce')).round(2)\n",
      "/var/folders/wf/_x5mxls94p92t_39895yg9pm0000gq/T/ipykernel_9397/1402016753.py:19: FutureWarning: The default value of regex will change from True to False in a future version. In addition, single character regular expressions will *not* be treated as literal strings when regex=True.\n",
      "  lambda x: pd.to_numeric(x.str.replace('$', '').str.replace(',', ''), errors='coerce')).round(2)\n",
      "/var/folders/wf/_x5mxls94p92t_39895yg9pm0000gq/T/ipykernel_9397/1402016753.py:19: FutureWarning: The default value of regex will change from True to False in a future version. In addition, single character regular expressions will *not* be treated as literal strings when regex=True.\n",
      "  lambda x: pd.to_numeric(x.str.replace('$', '').str.replace(',', ''), errors='coerce')).round(2)\n",
      "/var/folders/wf/_x5mxls94p92t_39895yg9pm0000gq/T/ipykernel_9397/1402016753.py:19: FutureWarning: The default value of regex will change from True to False in a future version. In addition, single character regular expressions will *not* be treated as literal strings when regex=True.\n",
      "  lambda x: pd.to_numeric(x.str.replace('$', '').str.replace(',', ''), errors='coerce')).round(2)\n",
      "/var/folders/wf/_x5mxls94p92t_39895yg9pm0000gq/T/ipykernel_9397/1402016753.py:19: FutureWarning: The default value of regex will change from True to False in a future version. In addition, single character regular expressions will *not* be treated as literal strings when regex=True.\n",
      "  lambda x: pd.to_numeric(x.str.replace('$', '').str.replace(',', ''), errors='coerce')).round(2)\n",
      "/var/folders/wf/_x5mxls94p92t_39895yg9pm0000gq/T/ipykernel_9397/1402016753.py:34: FutureWarning: The default value of regex will change from True to False in a future version. In addition, single character regular expressions will *not* be treated as literal strings when regex=True.\n",
      "  lambda x: pd.to_numeric(x.str.replace('$', '').str.replace(',', ''), errors='coerce')).round(2)\n",
      "/var/folders/wf/_x5mxls94p92t_39895yg9pm0000gq/T/ipykernel_9397/1402016753.py:34: FutureWarning: The default value of regex will change from True to False in a future version. In addition, single character regular expressions will *not* be treated as literal strings when regex=True.\n",
      "  lambda x: pd.to_numeric(x.str.replace('$', '').str.replace(',', ''), errors='coerce')).round(2)\n",
      "/var/folders/wf/_x5mxls94p92t_39895yg9pm0000gq/T/ipykernel_9397/1402016753.py:34: FutureWarning: The default value of regex will change from True to False in a future version. In addition, single character regular expressions will *not* be treated as literal strings when regex=True.\n",
      "  lambda x: pd.to_numeric(x.str.replace('$', '').str.replace(',', ''), errors='coerce')).round(2)\n",
      "/var/folders/wf/_x5mxls94p92t_39895yg9pm0000gq/T/ipykernel_9397/1402016753.py:34: FutureWarning: The default value of regex will change from True to False in a future version. In addition, single character regular expressions will *not* be treated as literal strings when regex=True.\n",
      "  lambda x: pd.to_numeric(x.str.replace('$', '').str.replace(',', ''), errors='coerce')).round(2)\n",
      "/var/folders/wf/_x5mxls94p92t_39895yg9pm0000gq/T/ipykernel_9397/1402016753.py:34: FutureWarning: The default value of regex will change from True to False in a future version. In addition, single character regular expressions will *not* be treated as literal strings when regex=True.\n",
      "  lambda x: pd.to_numeric(x.str.replace('$', '').str.replace(',', ''), errors='coerce')).round(2)\n",
      "/var/folders/wf/_x5mxls94p92t_39895yg9pm0000gq/T/ipykernel_9397/1402016753.py:34: FutureWarning: The default value of regex will change from True to False in a future version. In addition, single character regular expressions will *not* be treated as literal strings when regex=True.\n",
      "  lambda x: pd.to_numeric(x.str.replace('$', '').str.replace(',', ''), errors='coerce')).round(2)\n",
      "/var/folders/wf/_x5mxls94p92t_39895yg9pm0000gq/T/ipykernel_9397/1402016753.py:34: FutureWarning: The default value of regex will change from True to False in a future version. In addition, single character regular expressions will *not* be treated as literal strings when regex=True.\n",
      "  lambda x: pd.to_numeric(x.str.replace('$', '').str.replace(',', ''), errors='coerce')).round(2)\n",
      "/var/folders/wf/_x5mxls94p92t_39895yg9pm0000gq/T/ipykernel_9397/1402016753.py:34: FutureWarning: The default value of regex will change from True to False in a future version. In addition, single character regular expressions will *not* be treated as literal strings when regex=True.\n",
      "  lambda x: pd.to_numeric(x.str.replace('$', '').str.replace(',', ''), errors='coerce')).round(2)\n",
      "/var/folders/wf/_x5mxls94p92t_39895yg9pm0000gq/T/ipykernel_9397/1402016753.py:34: FutureWarning: The default value of regex will change from True to False in a future version. In addition, single character regular expressions will *not* be treated as literal strings when regex=True.\n",
      "  lambda x: pd.to_numeric(x.str.replace('$', '').str.replace(',', ''), errors='coerce')).round(2)\n",
      "/var/folders/wf/_x5mxls94p92t_39895yg9pm0000gq/T/ipykernel_9397/1402016753.py:34: FutureWarning: The default value of regex will change from True to False in a future version. In addition, single character regular expressions will *not* be treated as literal strings when regex=True.\n",
      "  lambda x: pd.to_numeric(x.str.replace('$', '').str.replace(',', ''), errors='coerce')).round(2)\n",
      "/var/folders/wf/_x5mxls94p92t_39895yg9pm0000gq/T/ipykernel_9397/1402016753.py:34: FutureWarning: The default value of regex will change from True to False in a future version. In addition, single character regular expressions will *not* be treated as literal strings when regex=True.\n",
      "  lambda x: pd.to_numeric(x.str.replace('$', '').str.replace(',', ''), errors='coerce')).round(2)\n",
      "/var/folders/wf/_x5mxls94p92t_39895yg9pm0000gq/T/ipykernel_9397/1402016753.py:34: FutureWarning: The default value of regex will change from True to False in a future version. In addition, single character regular expressions will *not* be treated as literal strings when regex=True.\n",
      "  lambda x: pd.to_numeric(x.str.replace('$', '').str.replace(',', ''), errors='coerce')).round(2)\n",
      "/var/folders/wf/_x5mxls94p92t_39895yg9pm0000gq/T/ipykernel_9397/1402016753.py:34: FutureWarning: The default value of regex will change from True to False in a future version. In addition, single character regular expressions will *not* be treated as literal strings when regex=True.\n",
      "  lambda x: pd.to_numeric(x.str.replace('$', '').str.replace(',', ''), errors='coerce')).round(2)\n",
      "/var/folders/wf/_x5mxls94p92t_39895yg9pm0000gq/T/ipykernel_9397/1402016753.py:34: FutureWarning: The default value of regex will change from True to False in a future version. In addition, single character regular expressions will *not* be treated as literal strings when regex=True.\n",
      "  lambda x: pd.to_numeric(x.str.replace('$', '').str.replace(',', ''), errors='coerce')).round(2)\n",
      "/var/folders/wf/_x5mxls94p92t_39895yg9pm0000gq/T/ipykernel_9397/1402016753.py:34: FutureWarning: The default value of regex will change from True to False in a future version. In addition, single character regular expressions will *not* be treated as literal strings when regex=True.\n",
      "  lambda x: pd.to_numeric(x.str.replace('$', '').str.replace(',', ''), errors='coerce')).round(2)\n",
      "/var/folders/wf/_x5mxls94p92t_39895yg9pm0000gq/T/ipykernel_9397/1402016753.py:34: FutureWarning: The default value of regex will change from True to False in a future version. In addition, single character regular expressions will *not* be treated as literal strings when regex=True.\n",
      "  lambda x: pd.to_numeric(x.str.replace('$', '').str.replace(',', ''), errors='coerce')).round(2)\n",
      "/var/folders/wf/_x5mxls94p92t_39895yg9pm0000gq/T/ipykernel_9397/1402016753.py:34: FutureWarning: The default value of regex will change from True to False in a future version. In addition, single character regular expressions will *not* be treated as literal strings when regex=True.\n",
      "  lambda x: pd.to_numeric(x.str.replace('$', '').str.replace(',', ''), errors='coerce')).round(2)\n",
      "/var/folders/wf/_x5mxls94p92t_39895yg9pm0000gq/T/ipykernel_9397/1402016753.py:34: FutureWarning: The default value of regex will change from True to False in a future version. In addition, single character regular expressions will *not* be treated as literal strings when regex=True.\n",
      "  lambda x: pd.to_numeric(x.str.replace('$', '').str.replace(',', ''), errors='coerce')).round(2)\n",
      "/var/folders/wf/_x5mxls94p92t_39895yg9pm0000gq/T/ipykernel_9397/1402016753.py:34: FutureWarning: The default value of regex will change from True to False in a future version. In addition, single character regular expressions will *not* be treated as literal strings when regex=True.\n",
      "  lambda x: pd.to_numeric(x.str.replace('$', '').str.replace(',', ''), errors='coerce')).round(2)\n",
      "/var/folders/wf/_x5mxls94p92t_39895yg9pm0000gq/T/ipykernel_9397/1402016753.py:34: FutureWarning: The default value of regex will change from True to False in a future version. In addition, single character regular expressions will *not* be treated as literal strings when regex=True.\n",
      "  lambda x: pd.to_numeric(x.str.replace('$', '').str.replace(',', ''), errors='coerce')).round(2)\n",
      "/var/folders/wf/_x5mxls94p92t_39895yg9pm0000gq/T/ipykernel_9397/1402016753.py:34: FutureWarning: The default value of regex will change from True to False in a future version. In addition, single character regular expressions will *not* be treated as literal strings when regex=True.\n",
      "  lambda x: pd.to_numeric(x.str.replace('$', '').str.replace(',', ''), errors='coerce')).round(2)\n",
      "/var/folders/wf/_x5mxls94p92t_39895yg9pm0000gq/T/ipykernel_9397/1402016753.py:19: FutureWarning: The default value of regex will change from True to False in a future version. In addition, single character regular expressions will *not* be treated as literal strings when regex=True.\n",
      "  lambda x: pd.to_numeric(x.str.replace('$', '').str.replace(',', ''), errors='coerce')).round(2)\n",
      "/var/folders/wf/_x5mxls94p92t_39895yg9pm0000gq/T/ipykernel_9397/1402016753.py:19: FutureWarning: The default value of regex will change from True to False in a future version. In addition, single character regular expressions will *not* be treated as literal strings when regex=True.\n",
      "  lambda x: pd.to_numeric(x.str.replace('$', '').str.replace(',', ''), errors='coerce')).round(2)\n",
      "/var/folders/wf/_x5mxls94p92t_39895yg9pm0000gq/T/ipykernel_9397/1402016753.py:19: FutureWarning: The default value of regex will change from True to False in a future version. In addition, single character regular expressions will *not* be treated as literal strings when regex=True.\n",
      "  lambda x: pd.to_numeric(x.str.replace('$', '').str.replace(',', ''), errors='coerce')).round(2)\n",
      "/var/folders/wf/_x5mxls94p92t_39895yg9pm0000gq/T/ipykernel_9397/1402016753.py:19: FutureWarning: The default value of regex will change from True to False in a future version. In addition, single character regular expressions will *not* be treated as literal strings when regex=True.\n",
      "  lambda x: pd.to_numeric(x.str.replace('$', '').str.replace(',', ''), errors='coerce')).round(2)\n",
      "/var/folders/wf/_x5mxls94p92t_39895yg9pm0000gq/T/ipykernel_9397/1402016753.py:19: FutureWarning: The default value of regex will change from True to False in a future version. In addition, single character regular expressions will *not* be treated as literal strings when regex=True.\n",
      "  lambda x: pd.to_numeric(x.str.replace('$', '').str.replace(',', ''), errors='coerce')).round(2)\n",
      "/var/folders/wf/_x5mxls94p92t_39895yg9pm0000gq/T/ipykernel_9397/1402016753.py:19: FutureWarning: The default value of regex will change from True to False in a future version. In addition, single character regular expressions will *not* be treated as literal strings when regex=True.\n",
      "  lambda x: pd.to_numeric(x.str.replace('$', '').str.replace(',', ''), errors='coerce')).round(2)\n",
      "/var/folders/wf/_x5mxls94p92t_39895yg9pm0000gq/T/ipykernel_9397/1402016753.py:19: FutureWarning: The default value of regex will change from True to False in a future version. In addition, single character regular expressions will *not* be treated as literal strings when regex=True.\n",
      "  lambda x: pd.to_numeric(x.str.replace('$', '').str.replace(',', ''), errors='coerce')).round(2)\n",
      "/var/folders/wf/_x5mxls94p92t_39895yg9pm0000gq/T/ipykernel_9397/1402016753.py:19: FutureWarning: The default value of regex will change from True to False in a future version. In addition, single character regular expressions will *not* be treated as literal strings when regex=True.\n",
      "  lambda x: pd.to_numeric(x.str.replace('$', '').str.replace(',', ''), errors='coerce')).round(2)\n",
      "/var/folders/wf/_x5mxls94p92t_39895yg9pm0000gq/T/ipykernel_9397/1402016753.py:19: FutureWarning: The default value of regex will change from True to False in a future version. In addition, single character regular expressions will *not* be treated as literal strings when regex=True.\n",
      "  lambda x: pd.to_numeric(x.str.replace('$', '').str.replace(',', ''), errors='coerce')).round(2)\n",
      "/var/folders/wf/_x5mxls94p92t_39895yg9pm0000gq/T/ipykernel_9397/1402016753.py:19: FutureWarning: The default value of regex will change from True to False in a future version. In addition, single character regular expressions will *not* be treated as literal strings when regex=True.\n",
      "  lambda x: pd.to_numeric(x.str.replace('$', '').str.replace(',', ''), errors='coerce')).round(2)\n"
     ]
    },
    {
     "name": "stderr",
     "output_type": "stream",
     "text": [
      "/var/folders/wf/_x5mxls94p92t_39895yg9pm0000gq/T/ipykernel_9397/1402016753.py:19: FutureWarning: The default value of regex will change from True to False in a future version. In addition, single character regular expressions will *not* be treated as literal strings when regex=True.\n",
      "  lambda x: pd.to_numeric(x.str.replace('$', '').str.replace(',', ''), errors='coerce')).round(2)\n",
      "/var/folders/wf/_x5mxls94p92t_39895yg9pm0000gq/T/ipykernel_9397/1402016753.py:19: FutureWarning: The default value of regex will change from True to False in a future version. In addition, single character regular expressions will *not* be treated as literal strings when regex=True.\n",
      "  lambda x: pd.to_numeric(x.str.replace('$', '').str.replace(',', ''), errors='coerce')).round(2)\n",
      "/var/folders/wf/_x5mxls94p92t_39895yg9pm0000gq/T/ipykernel_9397/1402016753.py:19: FutureWarning: The default value of regex will change from True to False in a future version. In addition, single character regular expressions will *not* be treated as literal strings when regex=True.\n",
      "  lambda x: pd.to_numeric(x.str.replace('$', '').str.replace(',', ''), errors='coerce')).round(2)\n",
      "/var/folders/wf/_x5mxls94p92t_39895yg9pm0000gq/T/ipykernel_9397/1402016753.py:19: FutureWarning: The default value of regex will change from True to False in a future version. In addition, single character regular expressions will *not* be treated as literal strings when regex=True.\n",
      "  lambda x: pd.to_numeric(x.str.replace('$', '').str.replace(',', ''), errors='coerce')).round(2)\n"
     ]
    }
   ],
   "source": [
    "# set path to folder containing CSV files\n",
    "folder_path = '/Users/toniwork/Desktop/AUBEC - 3 Projects/to_clean_summary'\n",
    "output_folder_path = '/Users/toniwork/Desktop/Capstone/summary_step_1'\n",
    "\n",
    "# Create the output folder if it does not exist\n",
    "create_folder(output_folder_path)\n",
    "\n",
    "# loop over all files in folder\n",
    "for filename in os.listdir(folder_path):\n",
    "    if filename.endswith('.csv'):\n",
    "        # read in CSV file\n",
    "        df = pd.read_csv(os.path.join(folder_path, filename))\n",
    "        \n",
    "        # perform cleaning and wrangling operations on the dataframe\n",
    "        if 'ranking_summary' in filename:\n",
    "            #print('Converting columns to numeric values and removing dollar sign and comma...')\n",
    "            # convert columns to numeric values and remove dollar sign and comma\n",
    "            df[['worldwide', 'domestic', 'foreign']] = df[['worldwide', 'domestic', 'foreign']].apply(\n",
    "                lambda x: pd.to_numeric(x.str.replace('$', '').str.replace(',', ''), errors='coerce')).round(2)\n",
    "            df[['domestic_pct', 'foreign_pct']] = df[['domestic_pct', 'foreign_pct']].apply(\n",
    "                lambda x: pd.to_numeric(x.astype(str).replace('%', '', regex=True), errors='coerce')).round(4) / 100.0\n",
    "            \n",
    "            # extract year from filename and create Year column\n",
    "            year = int(filename[-8:-4])\n",
    "            df['Year'] = year\n",
    "\n",
    "        elif 'weekend_summary' in filename:\n",
    "            # update top_release column \n",
    "            df['top_release_title'] = df['top_release']\n",
    "            \n",
    "            #print('Converting columns to numeric values and removing dollar sign and comma...')\n",
    "            # convert columns to numeric values and remove dollar sign and comma\n",
    "            df[['top10_gross', 'overall_gross']] = df[['top10_gross', 'overall_gross']].apply(\n",
    "                lambda x: pd.to_numeric(x.str.replace('$', '').str.replace(',', ''), errors='coerce')).round(2)\n",
    "            df[['top10_wow_change', 'overall_wow_change']] = df[['top10_wow_change', 'overall_wow_change']].apply(\n",
    "                lambda x: pd.to_numeric(x.astype(str).replace('%', '', regex=True), errors='coerce')).round(4) / 100.0\n",
    "    \n",
    "            #print('Splitting date column and cleaning date values...')\n",
    "            # clean and split date column\n",
    "            df = clean_split_date(df, 'date', filename)\n",
    "            \n",
    "        # save cleaned dataframe to new file\n",
    "        new_filename = filename.split('.')[0] + '_date.csv'\n",
    "        df.to_csv(os.path.join(output_folder_path, new_filename), index=False)\n"
   ]
  },
  {
   "cell_type": "code",
   "execution_count": 4,
   "id": "ad36da91",
   "metadata": {
    "scrolled": true
   },
   "outputs": [
    {
     "name": "stderr",
     "output_type": "stream",
     "text": [
      "/var/folders/wf/_x5mxls94p92t_39895yg9pm0000gq/T/ipykernel_9397/232181737.py:17: FutureWarning: The frame.append method is deprecated and will be removed from pandas in a future version. Use pandas.concat instead.\n",
      "  ranking_data = ranking_data.append(df)  # Append data to ranking_data DataFrame\n",
      "/var/folders/wf/_x5mxls94p92t_39895yg9pm0000gq/T/ipykernel_9397/232181737.py:17: FutureWarning: The frame.append method is deprecated and will be removed from pandas in a future version. Use pandas.concat instead.\n",
      "  ranking_data = ranking_data.append(df)  # Append data to ranking_data DataFrame\n",
      "/var/folders/wf/_x5mxls94p92t_39895yg9pm0000gq/T/ipykernel_9397/232181737.py:19: FutureWarning: The frame.append method is deprecated and will be removed from pandas in a future version. Use pandas.concat instead.\n",
      "  weekend_data = weekend_data.append(df)  # Append data to weekend_data DataFrame\n",
      "/var/folders/wf/_x5mxls94p92t_39895yg9pm0000gq/T/ipykernel_9397/232181737.py:19: FutureWarning: The frame.append method is deprecated and will be removed from pandas in a future version. Use pandas.concat instead.\n",
      "  weekend_data = weekend_data.append(df)  # Append data to weekend_data DataFrame\n",
      "/var/folders/wf/_x5mxls94p92t_39895yg9pm0000gq/T/ipykernel_9397/232181737.py:17: FutureWarning: The frame.append method is deprecated and will be removed from pandas in a future version. Use pandas.concat instead.\n",
      "  ranking_data = ranking_data.append(df)  # Append data to ranking_data DataFrame\n",
      "/var/folders/wf/_x5mxls94p92t_39895yg9pm0000gq/T/ipykernel_9397/232181737.py:17: FutureWarning: The frame.append method is deprecated and will be removed from pandas in a future version. Use pandas.concat instead.\n",
      "  ranking_data = ranking_data.append(df)  # Append data to ranking_data DataFrame\n",
      "/var/folders/wf/_x5mxls94p92t_39895yg9pm0000gq/T/ipykernel_9397/232181737.py:19: FutureWarning: The frame.append method is deprecated and will be removed from pandas in a future version. Use pandas.concat instead.\n",
      "  weekend_data = weekend_data.append(df)  # Append data to weekend_data DataFrame\n",
      "/var/folders/wf/_x5mxls94p92t_39895yg9pm0000gq/T/ipykernel_9397/232181737.py:19: FutureWarning: The frame.append method is deprecated and will be removed from pandas in a future version. Use pandas.concat instead.\n",
      "  weekend_data = weekend_data.append(df)  # Append data to weekend_data DataFrame\n",
      "/var/folders/wf/_x5mxls94p92t_39895yg9pm0000gq/T/ipykernel_9397/232181737.py:17: FutureWarning: The frame.append method is deprecated and will be removed from pandas in a future version. Use pandas.concat instead.\n",
      "  ranking_data = ranking_data.append(df)  # Append data to ranking_data DataFrame\n",
      "/var/folders/wf/_x5mxls94p92t_39895yg9pm0000gq/T/ipykernel_9397/232181737.py:17: FutureWarning: The frame.append method is deprecated and will be removed from pandas in a future version. Use pandas.concat instead.\n",
      "  ranking_data = ranking_data.append(df)  # Append data to ranking_data DataFrame\n",
      "/var/folders/wf/_x5mxls94p92t_39895yg9pm0000gq/T/ipykernel_9397/232181737.py:17: FutureWarning: The frame.append method is deprecated and will be removed from pandas in a future version. Use pandas.concat instead.\n",
      "  ranking_data = ranking_data.append(df)  # Append data to ranking_data DataFrame\n",
      "/var/folders/wf/_x5mxls94p92t_39895yg9pm0000gq/T/ipykernel_9397/232181737.py:17: FutureWarning: The frame.append method is deprecated and will be removed from pandas in a future version. Use pandas.concat instead.\n",
      "  ranking_data = ranking_data.append(df)  # Append data to ranking_data DataFrame\n",
      "/var/folders/wf/_x5mxls94p92t_39895yg9pm0000gq/T/ipykernel_9397/232181737.py:17: FutureWarning: The frame.append method is deprecated and will be removed from pandas in a future version. Use pandas.concat instead.\n",
      "  ranking_data = ranking_data.append(df)  # Append data to ranking_data DataFrame\n",
      "/var/folders/wf/_x5mxls94p92t_39895yg9pm0000gq/T/ipykernel_9397/232181737.py:17: FutureWarning: The frame.append method is deprecated and will be removed from pandas in a future version. Use pandas.concat instead.\n",
      "  ranking_data = ranking_data.append(df)  # Append data to ranking_data DataFrame\n",
      "/var/folders/wf/_x5mxls94p92t_39895yg9pm0000gq/T/ipykernel_9397/232181737.py:17: FutureWarning: The frame.append method is deprecated and will be removed from pandas in a future version. Use pandas.concat instead.\n",
      "  ranking_data = ranking_data.append(df)  # Append data to ranking_data DataFrame\n",
      "/var/folders/wf/_x5mxls94p92t_39895yg9pm0000gq/T/ipykernel_9397/232181737.py:17: FutureWarning: The frame.append method is deprecated and will be removed from pandas in a future version. Use pandas.concat instead.\n",
      "  ranking_data = ranking_data.append(df)  # Append data to ranking_data DataFrame\n",
      "/var/folders/wf/_x5mxls94p92t_39895yg9pm0000gq/T/ipykernel_9397/232181737.py:19: FutureWarning: The frame.append method is deprecated and will be removed from pandas in a future version. Use pandas.concat instead.\n",
      "  weekend_data = weekend_data.append(df)  # Append data to weekend_data DataFrame\n",
      "/var/folders/wf/_x5mxls94p92t_39895yg9pm0000gq/T/ipykernel_9397/232181737.py:19: FutureWarning: The frame.append method is deprecated and will be removed from pandas in a future version. Use pandas.concat instead.\n",
      "  weekend_data = weekend_data.append(df)  # Append data to weekend_data DataFrame\n",
      "/var/folders/wf/_x5mxls94p92t_39895yg9pm0000gq/T/ipykernel_9397/232181737.py:17: FutureWarning: The frame.append method is deprecated and will be removed from pandas in a future version. Use pandas.concat instead.\n",
      "  ranking_data = ranking_data.append(df)  # Append data to ranking_data DataFrame\n",
      "/var/folders/wf/_x5mxls94p92t_39895yg9pm0000gq/T/ipykernel_9397/232181737.py:17: FutureWarning: The frame.append method is deprecated and will be removed from pandas in a future version. Use pandas.concat instead.\n",
      "  ranking_data = ranking_data.append(df)  # Append data to ranking_data DataFrame\n",
      "/var/folders/wf/_x5mxls94p92t_39895yg9pm0000gq/T/ipykernel_9397/232181737.py:19: FutureWarning: The frame.append method is deprecated and will be removed from pandas in a future version. Use pandas.concat instead.\n",
      "  weekend_data = weekend_data.append(df)  # Append data to weekend_data DataFrame\n",
      "/var/folders/wf/_x5mxls94p92t_39895yg9pm0000gq/T/ipykernel_9397/232181737.py:17: FutureWarning: The frame.append method is deprecated and will be removed from pandas in a future version. Use pandas.concat instead.\n",
      "  ranking_data = ranking_data.append(df)  # Append data to ranking_data DataFrame\n",
      "/var/folders/wf/_x5mxls94p92t_39895yg9pm0000gq/T/ipykernel_9397/232181737.py:19: FutureWarning: The frame.append method is deprecated and will be removed from pandas in a future version. Use pandas.concat instead.\n",
      "  weekend_data = weekend_data.append(df)  # Append data to weekend_data DataFrame\n",
      "/var/folders/wf/_x5mxls94p92t_39895yg9pm0000gq/T/ipykernel_9397/232181737.py:19: FutureWarning: The frame.append method is deprecated and will be removed from pandas in a future version. Use pandas.concat instead.\n",
      "  weekend_data = weekend_data.append(df)  # Append data to weekend_data DataFrame\n",
      "/var/folders/wf/_x5mxls94p92t_39895yg9pm0000gq/T/ipykernel_9397/232181737.py:17: FutureWarning: The frame.append method is deprecated and will be removed from pandas in a future version. Use pandas.concat instead.\n",
      "  ranking_data = ranking_data.append(df)  # Append data to ranking_data DataFrame\n",
      "/var/folders/wf/_x5mxls94p92t_39895yg9pm0000gq/T/ipykernel_9397/232181737.py:17: FutureWarning: The frame.append method is deprecated and will be removed from pandas in a future version. Use pandas.concat instead.\n",
      "  ranking_data = ranking_data.append(df)  # Append data to ranking_data DataFrame\n",
      "/var/folders/wf/_x5mxls94p92t_39895yg9pm0000gq/T/ipykernel_9397/232181737.py:19: FutureWarning: The frame.append method is deprecated and will be removed from pandas in a future version. Use pandas.concat instead.\n",
      "  weekend_data = weekend_data.append(df)  # Append data to weekend_data DataFrame\n",
      "/var/folders/wf/_x5mxls94p92t_39895yg9pm0000gq/T/ipykernel_9397/232181737.py:19: FutureWarning: The frame.append method is deprecated and will be removed from pandas in a future version. Use pandas.concat instead.\n",
      "  weekend_data = weekend_data.append(df)  # Append data to weekend_data DataFrame\n",
      "/var/folders/wf/_x5mxls94p92t_39895yg9pm0000gq/T/ipykernel_9397/232181737.py:19: FutureWarning: The frame.append method is deprecated and will be removed from pandas in a future version. Use pandas.concat instead.\n",
      "  weekend_data = weekend_data.append(df)  # Append data to weekend_data DataFrame\n",
      "/var/folders/wf/_x5mxls94p92t_39895yg9pm0000gq/T/ipykernel_9397/232181737.py:19: FutureWarning: The frame.append method is deprecated and will be removed from pandas in a future version. Use pandas.concat instead.\n",
      "  weekend_data = weekend_data.append(df)  # Append data to weekend_data DataFrame\n",
      "/var/folders/wf/_x5mxls94p92t_39895yg9pm0000gq/T/ipykernel_9397/232181737.py:19: FutureWarning: The frame.append method is deprecated and will be removed from pandas in a future version. Use pandas.concat instead.\n",
      "  weekend_data = weekend_data.append(df)  # Append data to weekend_data DataFrame\n",
      "/var/folders/wf/_x5mxls94p92t_39895yg9pm0000gq/T/ipykernel_9397/232181737.py:19: FutureWarning: The frame.append method is deprecated and will be removed from pandas in a future version. Use pandas.concat instead.\n",
      "  weekend_data = weekend_data.append(df)  # Append data to weekend_data DataFrame\n",
      "/var/folders/wf/_x5mxls94p92t_39895yg9pm0000gq/T/ipykernel_9397/232181737.py:19: FutureWarning: The frame.append method is deprecated and will be removed from pandas in a future version. Use pandas.concat instead.\n",
      "  weekend_data = weekend_data.append(df)  # Append data to weekend_data DataFrame\n",
      "/var/folders/wf/_x5mxls94p92t_39895yg9pm0000gq/T/ipykernel_9397/232181737.py:19: FutureWarning: The frame.append method is deprecated and will be removed from pandas in a future version. Use pandas.concat instead.\n",
      "  weekend_data = weekend_data.append(df)  # Append data to weekend_data DataFrame\n",
      "/var/folders/wf/_x5mxls94p92t_39895yg9pm0000gq/T/ipykernel_9397/232181737.py:17: FutureWarning: The frame.append method is deprecated and will be removed from pandas in a future version. Use pandas.concat instead.\n",
      "  ranking_data = ranking_data.append(df)  # Append data to ranking_data DataFrame\n",
      "/var/folders/wf/_x5mxls94p92t_39895yg9pm0000gq/T/ipykernel_9397/232181737.py:17: FutureWarning: The frame.append method is deprecated and will be removed from pandas in a future version. Use pandas.concat instead.\n",
      "  ranking_data = ranking_data.append(df)  # Append data to ranking_data DataFrame\n",
      "/var/folders/wf/_x5mxls94p92t_39895yg9pm0000gq/T/ipykernel_9397/232181737.py:19: FutureWarning: The frame.append method is deprecated and will be removed from pandas in a future version. Use pandas.concat instead.\n",
      "  weekend_data = weekend_data.append(df)  # Append data to weekend_data DataFrame\n",
      "/var/folders/wf/_x5mxls94p92t_39895yg9pm0000gq/T/ipykernel_9397/232181737.py:19: FutureWarning: The frame.append method is deprecated and will be removed from pandas in a future version. Use pandas.concat instead.\n",
      "  weekend_data = weekend_data.append(df)  # Append data to weekend_data DataFrame\n",
      "/var/folders/wf/_x5mxls94p92t_39895yg9pm0000gq/T/ipykernel_9397/232181737.py:17: FutureWarning: The frame.append method is deprecated and will be removed from pandas in a future version. Use pandas.concat instead.\n",
      "  ranking_data = ranking_data.append(df)  # Append data to ranking_data DataFrame\n",
      "/var/folders/wf/_x5mxls94p92t_39895yg9pm0000gq/T/ipykernel_9397/232181737.py:17: FutureWarning: The frame.append method is deprecated and will be removed from pandas in a future version. Use pandas.concat instead.\n",
      "  ranking_data = ranking_data.append(df)  # Append data to ranking_data DataFrame\n",
      "/var/folders/wf/_x5mxls94p92t_39895yg9pm0000gq/T/ipykernel_9397/232181737.py:19: FutureWarning: The frame.append method is deprecated and will be removed from pandas in a future version. Use pandas.concat instead.\n",
      "  weekend_data = weekend_data.append(df)  # Append data to weekend_data DataFrame\n",
      "/var/folders/wf/_x5mxls94p92t_39895yg9pm0000gq/T/ipykernel_9397/232181737.py:19: FutureWarning: The frame.append method is deprecated and will be removed from pandas in a future version. Use pandas.concat instead.\n",
      "  weekend_data = weekend_data.append(df)  # Append data to weekend_data DataFrame\n"
     ]
    }
   ],
   "source": [
    "folder_path = '/Users/toniwork/Desktop/Capstone/summary_step_1'\n",
    "output_folder_path = '/Users/toniwork/Desktop/Capstone/summary_step_2'\n",
    "\n",
    "# Create the output folder if it does not exist\n",
    "create_folder(output_folder_path)\n",
    "\n",
    "ranking_data = pd.DataFrame()  # Empty DataFrame to store ranking data\n",
    "weekend_data = pd.DataFrame()  # Empty DataFrame to store weekend data\n",
    "\n",
    "# Loop over all files in the folder\n",
    "for filename in os.listdir(folder_path):\n",
    "    if filename.endswith('.csv'):\n",
    "        file_path = os.path.join(folder_path, filename)\n",
    "        df = pd.read_csv(file_path)\n",
    "        \n",
    "        if 'ranking' in filename.lower():\n",
    "            ranking_data = ranking_data.append(df)  # Append data to ranking_data DataFrame\n",
    "        elif 'weekend' in filename.lower():\n",
    "            weekend_data = weekend_data.append(df)  # Append data to weekend_data DataFrame\n",
    "\n",
    "# Save the combined data to new files\n",
    "ranking_data.to_csv(os.path.join(output_folder_path, 'combined_ranking_data.csv'), index=False)\n",
    "weekend_data.to_csv(os.path.join(output_folder_path, 'combined_weekend_data.csv'), index=False)\n"
   ]
  },
  {
   "cell_type": "code",
   "execution_count": 5,
   "id": "2e19ec8f",
   "metadata": {},
   "outputs": [],
   "source": [
    "# Drop columns \n",
    "def drop_columns(folder_path, file_name, columns):\n",
    "    file_path = os.path.join(folder_path, file_name)\n",
    "    if not os.path.exists(file_path):\n",
    "        print(f\"{file_path} not found, skipping\")\n",
    "        return\n",
    "    df = pd.read_csv(file_path)\n",
    "    for col in columns:\n",
    "        if col in df.columns:\n",
    "            df.drop(col, axis=1, inplace=True)\n",
    "        else:\n",
    "            print(f\"Column {col} not found in {file_name}, skipping\")\n",
    "    df.to_csv(file_path, index=False)\n",
    "    print(f\"{file_name} updated successfully!\")"
   ]
  },
  {
   "cell_type": "code",
   "execution_count": 6,
   "id": "38f2b7cd",
   "metadata": {},
   "outputs": [
    {
     "name": "stdout",
     "output_type": "stream",
     "text": [
      "combined_weekend_data.csv updated successfully!\n"
     ]
    }
   ],
   "source": [
    "folder_path = '/Users/toniwork/Desktop/Capstone/summary_step_2'\n",
    "\n",
    "drop_columns(folder_path, 'combined_weekend_data.csv', ['occasion','top_release_title'])"
   ]
  },
  {
   "cell_type": "markdown",
   "id": "1965f2fe",
   "metadata": {},
   "source": [
    "## Processing to make comparing to other data easier"
   ]
  },
  {
   "cell_type": "code",
   "execution_count": 7,
   "id": "10920102",
   "metadata": {},
   "outputs": [],
   "source": [
    "# Intital clean_movie function to clean up for data consistency\n",
    "def clean_movie_data(folder_path, output_folder_path):\n",
    "    for filename in os.listdir(folder_path):\n",
    "        if filename.endswith('.csv'):\n",
    "            try:\n",
    "                df = pd.read_csv(os.path.join(folder_path, filename))\n",
    "            except FileNotFoundError:\n",
    "                print(f\"Error: {filename} not found.\")\n",
    "                continue\n",
    "\n",
    "        # Call the cleaning functions\n",
    "        df = convert_column_names(df)\n",
    "        df = clean_title_columns(df)\n",
    "        df = convert_string_columns_to_lowercase(df)\n",
    "        \n",
    "        # Save cleaned DataFrame\n",
    "        new_filename = filename\n",
    "        df.to_csv(os.path.join(output_folder_path, new_filename), index=False)\n",
    "        print(f\"{filename} cleaned and saved as {new_filename}.\")"
   ]
  },
  {
   "cell_type": "code",
   "execution_count": 8,
   "id": "9d4feb13",
   "metadata": {},
   "outputs": [
    {
     "name": "stderr",
     "output_type": "stream",
     "text": [
      "<string>:5: FutureWarning: The default value of regex will change from True to False in a future version.\n"
     ]
    },
    {
     "name": "stdout",
     "output_type": "stream",
     "text": [
      "combined_ranking_data.csv cleaned and saved as combined_ranking_data.csv.\n",
      "combined_weekend_data.csv cleaned and saved as combined_weekend_data.csv.\n"
     ]
    }
   ],
   "source": [
    "# Run clean_movie_data function\n",
    "folder_path = '/Users/toniwork/Desktop/Capstone/summary_step_2'\n",
    "output_folder_path = '/Users/toniwork/Desktop/Capstone/summary_step_2'  \n",
    "\n",
    "clean_movie_data(folder_path, output_folder_path)"
   ]
  },
  {
   "cell_type": "code",
   "execution_count": 9,
   "id": "f5aa2959",
   "metadata": {},
   "outputs": [
    {
     "name": "stdout",
     "output_type": "stream",
     "text": [
      "<class 'pandas.core.frame.DataFrame'>\n",
      "RangeIndex: 4200 entries, 0 to 4199\n",
      "Data columns (total 8 columns):\n",
      " #   Column        Non-Null Count  Dtype  \n",
      "---  ------        --------------  -----  \n",
      " 0   rank          4200 non-null   int64  \n",
      " 1   title         4200 non-null   object \n",
      " 2   worldwide     4200 non-null   int64  \n",
      " 3   domestic      3171 non-null   float64\n",
      " 4   domestic_pct  3125 non-null   float64\n",
      " 5   foreign       4177 non-null   float64\n",
      " 6   foreign_pct   4171 non-null   float64\n",
      " 7   year          4200 non-null   int64  \n",
      "dtypes: float64(4), int64(3), object(1)\n",
      "memory usage: 262.6+ KB\n",
      "combined_ranking_data.csv : None\n",
      "<class 'pandas.core.frame.DataFrame'>\n",
      "RangeIndex: 1291 entries, 0 to 1290\n",
      "Data columns (total 15 columns):\n",
      " #   Column              Non-Null Count  Dtype  \n",
      "---  ------              --------------  -----  \n",
      " 0   top10_gross         1291 non-null   float64\n",
      " 1   top10_wow_change    1094 non-null   float64\n",
      " 2   overall_gross       1291 non-null   float64\n",
      " 3   overall_wow_change  1094 non-null   float64\n",
      " 4   num_releases        1291 non-null   int64  \n",
      " 5   top_release         1291 non-null   object \n",
      " 6   week_no             1291 non-null   int64  \n",
      " 7   start_date          1291 non-null   object \n",
      " 8   start_month         1291 non-null   object \n",
      " 9   start_day           1291 non-null   int64  \n",
      " 10  start_year          1291 non-null   int64  \n",
      " 11  end_month           1291 non-null   object \n",
      " 12  end_day             1291 non-null   int64  \n",
      " 13  end_year            1291 non-null   int64  \n",
      " 14  end_date            1291 non-null   object \n",
      "dtypes: float64(4), int64(6), object(5)\n",
      "memory usage: 151.4+ KB\n",
      "combined_weekend_data.csv : None\n"
     ]
    }
   ],
   "source": [
    "# Print files info from folder to verify\n",
    "folder_path = '/Users/toniwork/Desktop/Capstone/summary_step_2'\n",
    "\n",
    "# Loop through each file in the folder\n",
    "for file_name in os.listdir(folder_path):\n",
    "    if file_name.endswith('.csv'):\n",
    "        file_path = os.path.join(folder_path, file_name)\n",
    "        \n",
    "        # Read in the CSV file as a DataFrame\n",
    "        df = pd.read_csv(file_path)\n",
    "        print(file_name,':',df.info())"
   ]
  },
  {
   "cell_type": "code",
   "execution_count": 10,
   "id": "0bd401b6",
   "metadata": {},
   "outputs": [],
   "source": [
    "# Rename rating column to mpaa_rating in metacritic-reviews.csv\n",
    "df = pd.read_csv('/Users/toniwork/Desktop/Capstone/summary_step_2/combined_weekend_data.csv')\n",
    "\n",
    "# Define a dictionary to map old column names to new column names\n",
    "column_mapping = {\n",
    "    'top_release': 'title'\n",
    "}\n",
    "\n",
    "# Rename the columns using the dictionary\n",
    "df.rename(columns=column_mapping, inplace=True)\n",
    "\n",
    "# Save the updated DataFrame to a new file\n",
    "df.to_csv('/Users/toniwork/Desktop/Capstone/summary_step_2/combined_weekend_data.csv', index=False)"
   ]
  },
  {
   "cell_type": "code",
   "execution_count": 11,
   "id": "92ec111c",
   "metadata": {},
   "outputs": [
    {
     "name": "stdout",
     "output_type": "stream",
     "text": [
      "combined_ranking_data.csv cleaned and 'title_id' added. On /Users/toniwork/Desktop/Capstone/summary_title_id/combined_ranking_data.csv and /Users/toniwork/Desktop/Capstone/summary_step_2/combined_ranking_data.csv\n",
      "combined_weekend_data.csv cleaned and 'title_id' added. On /Users/toniwork/Desktop/Capstone/summary_title_id/combined_weekend_data.csv and /Users/toniwork/Desktop/Capstone/summary_step_2/combined_weekend_data.csv\n"
     ]
    }
   ],
   "source": [
    "# Loop through file in folder to add the new title_id from the title_key.csv using add_title_ids_main function\n",
    "input_folder = '/Users/toniwork/Desktop/Capstone/summary_step_2'\n",
    "title_key_path = '/Users/toniwork/Desktop/Capstone/'\n",
    "output_folder = '/Users/toniwork/Desktop/Capstone/summary_title_id'\n",
    "split_folder = '/Users/toniwork/Desktop/Capstone/split_1'\n",
    "\n",
    "# Create the output folder if it does not exist\n",
    "create_folder(output_folder)\n",
    "    \n",
    "# Create the split folder if it does not exist\n",
    "create_folder(split_folder)\n",
    "\n",
    "add_title_ids_main(input_folder, title_key_path, split_folder, output_folder)"
   ]
  },
  {
   "cell_type": "code",
   "execution_count": 16,
   "id": "431f57a4",
   "metadata": {},
   "outputs": [
    {
     "name": "stdout",
     "output_type": "stream",
     "text": [
      "<class 'pandas.core.frame.DataFrame'>\n",
      "RangeIndex: 2901 entries, 0 to 2900\n",
      "Data columns (total 14 columns):\n",
      " #   Column         Non-Null Count  Dtype  \n",
      "---  ------         --------------  -----  \n",
      " 0   rank           2901 non-null   int64  \n",
      " 1   title_x        2901 non-null   object \n",
      " 2   worldwide      2901 non-null   int64  \n",
      " 3   domestic       2729 non-null   float64\n",
      " 4   domestic_pct   2720 non-null   float64\n",
      " 5   foreign        2879 non-null   float64\n",
      " 6   foreign_pct    2873 non-null   float64\n",
      " 7   year           2901 non-null   int64  \n",
      " 8   title_id       2901 non-null   int64  \n",
      " 9   title_y        2901 non-null   object \n",
      " 10  release_date   2901 non-null   object \n",
      " 11  release_year   2901 non-null   int64  \n",
      " 12  release_month  2901 non-null   int64  \n",
      " 13  release_day    2901 non-null   int64  \n",
      "dtypes: float64(4), int64(7), object(3)\n",
      "memory usage: 317.4+ KB\n",
      "combined_ranking_data.csv : None\n",
      "<class 'pandas.core.frame.DataFrame'>\n",
      "RangeIndex: 895 entries, 0 to 894\n",
      "Data columns (total 21 columns):\n",
      " #   Column              Non-Null Count  Dtype  \n",
      "---  ------              --------------  -----  \n",
      " 0   top10_gross         895 non-null    float64\n",
      " 1   top10_wow_change    762 non-null    float64\n",
      " 2   overall_gross       895 non-null    float64\n",
      " 3   overall_wow_change  763 non-null    float64\n",
      " 4   num_releases        895 non-null    int64  \n",
      " 5   title_x             895 non-null    object \n",
      " 6   week_no             895 non-null    int64  \n",
      " 7   start_date          895 non-null    object \n",
      " 8   start_month         895 non-null    object \n",
      " 9   start_day           895 non-null    int64  \n",
      " 10  start_year          895 non-null    int64  \n",
      " 11  end_month           895 non-null    object \n",
      " 12  end_day             895 non-null    int64  \n",
      " 13  end_year            895 non-null    int64  \n",
      " 14  end_date            895 non-null    object \n",
      " 15  title_id            895 non-null    int64  \n",
      " 16  title_y             895 non-null    object \n",
      " 17  release_date        895 non-null    object \n",
      " 18  release_year        895 non-null    int64  \n",
      " 19  release_month       895 non-null    int64  \n",
      " 20  release_day         895 non-null    int64  \n",
      "dtypes: float64(4), int64(10), object(7)\n",
      "memory usage: 147.0+ KB\n",
      "combined_weekend_data.csv : None\n"
     ]
    }
   ],
   "source": [
    "# Print files info from folder to verify\n",
    "folder_path = '/Users/toniwork/Desktop/Capstone/summary_title_id'\n",
    "\n",
    "# Loop through each file in the folder\n",
    "for file_name in os.listdir(folder_path):\n",
    "    if file_name.endswith('.csv'):\n",
    "        file_path = os.path.join(folder_path, file_name)\n",
    "        \n",
    "        # Read in the CSV file as a DataFrame\n",
    "        df = pd.read_csv(file_path)\n",
    "        print(file_name,':',df.info())"
   ]
  },
  {
   "cell_type": "code",
   "execution_count": 13,
   "id": "98fd3df3",
   "metadata": {},
   "outputs": [
    {
     "name": "stdout",
     "output_type": "stream",
     "text": [
      "combined_ranking_data.csv updated successfully!\n",
      "combined_weekend_data.csv updated successfully!\n"
     ]
    }
   ],
   "source": [
    "# Compare title_key_updated to the files in folder summary_title_id dropping any rows that do not match on title_id \n",
    "title_id_key_df = pd.read_csv('/Users/toniwork/Desktop/Capstone/title_key_updated.csv')\n",
    "path = '/Users/toniwork/Desktop/Capstone/summary_title_id'\n",
    "\n",
    "# Iterate through all the CSV files in the specified path\n",
    "for filename in os.listdir(path):\n",
    "    if filename.endswith('.csv'):\n",
    "        file_path = os.path.join(path, filename)\n",
    "        df = pd.read_csv(file_path)\n",
    "\n",
    "        # Merge with title_id_key_df using an inner join on the title_id column\n",
    "        # This will keep only the rows with matching title_ids\n",
    "        updated_df = pd.merge(df, title_id_key_df, on='title_id', how='inner')\n",
    "\n",
    "        # Save the updated DataFrame back to the CSV file\n",
    "        updated_df.to_csv(file_path, index=False)\n",
    "        print(f\"{filename} updated successfully!\")"
   ]
  },
  {
   "cell_type": "code",
   "execution_count": 15,
   "id": "ec7a4e24",
   "metadata": {},
   "outputs": [
    {
     "name": "stdout",
     "output_type": "stream",
     "text": [
      "File: combined_ranking_data.csv, Title_id duplicates: 64\n",
      "File: combined_weekend_data.csv, Title_id duplicates: 578\n"
     ]
    }
   ],
   "source": [
    "# Remove duplicates and get count for all updated files in step_2 folder\n",
    "folder_path = \"/Users/toniwork/Desktop/Capstone/summary_title_id\"\n",
    "file_pattern = \".csv\" \n",
    "drop_duplicate_rows_and_report(folder_path, file_pattern)\n"
   ]
  },
  {
   "cell_type": "code",
   "execution_count": 17,
   "id": "d5bb8cca",
   "metadata": {},
   "outputs": [
    {
     "name": "stdout",
     "output_type": "stream",
     "text": [
      "combined_ranking_data.csv updated successfully!\n",
      "combined_weekend_data.csv updated successfully!\n"
     ]
    }
   ],
   "source": [
    "# Drop columns using drop_columns_by_keyword_or_name function\n",
    "folder_path = '/Users/toniwork/Desktop/Capstone/summary_title_id'\n",
    "\n",
    "drop_columns_by_keyword_or_name(folder_path, column_names=['title_y', 'title_x', 'release_date', 'release_year', 'release_month', 'release_day'], file_name='combined_ranking_data.csv')\n",
    "drop_columns_by_keyword_or_name(folder_path, column_names=['title_y', 'title_x', 'release_date', 'release_year', 'release_month', 'release_day'], file_name='combined_weekend_data.csv')\n"
   ]
  },
  {
   "cell_type": "code",
   "execution_count": 18,
   "id": "a59191ee",
   "metadata": {},
   "outputs": [
    {
     "name": "stdout",
     "output_type": "stream",
     "text": [
      "<class 'pandas.core.frame.DataFrame'>\n",
      "RangeIndex: 2901 entries, 0 to 2900\n",
      "Data columns (total 8 columns):\n",
      " #   Column        Non-Null Count  Dtype  \n",
      "---  ------        --------------  -----  \n",
      " 0   rank          2901 non-null   int64  \n",
      " 1   worldwide     2901 non-null   int64  \n",
      " 2   domestic      2729 non-null   float64\n",
      " 3   domestic_pct  2720 non-null   float64\n",
      " 4   foreign       2879 non-null   float64\n",
      " 5   foreign_pct   2873 non-null   float64\n",
      " 6   year          2901 non-null   int64  \n",
      " 7   title_id      2901 non-null   int64  \n",
      "dtypes: float64(4), int64(4)\n",
      "memory usage: 181.4 KB\n",
      "combined_ranking_data.csv : None\n",
      "<class 'pandas.core.frame.DataFrame'>\n",
      "RangeIndex: 895 entries, 0 to 894\n",
      "Data columns (total 15 columns):\n",
      " #   Column              Non-Null Count  Dtype  \n",
      "---  ------              --------------  -----  \n",
      " 0   top10_gross         895 non-null    float64\n",
      " 1   top10_wow_change    762 non-null    float64\n",
      " 2   overall_gross       895 non-null    float64\n",
      " 3   overall_wow_change  763 non-null    float64\n",
      " 4   num_releases        895 non-null    int64  \n",
      " 5   week_no             895 non-null    int64  \n",
      " 6   start_date          895 non-null    object \n",
      " 7   start_month         895 non-null    object \n",
      " 8   start_day           895 non-null    int64  \n",
      " 9   start_year          895 non-null    int64  \n",
      " 10  end_month           895 non-null    object \n",
      " 11  end_day             895 non-null    int64  \n",
      " 12  end_year            895 non-null    int64  \n",
      " 13  end_date            895 non-null    object \n",
      " 14  title_id            895 non-null    int64  \n",
      "dtypes: float64(4), int64(7), object(4)\n",
      "memory usage: 105.0+ KB\n",
      "combined_weekend_data.csv : None\n"
     ]
    }
   ],
   "source": [
    "# Print files info from folder to verify\n",
    "folder_path = '/Users/toniwork/Desktop/Capstone/summary_title_id'\n",
    "\n",
    "# Loop through each file in the folder\n",
    "for file_name in os.listdir(folder_path):\n",
    "    if file_name.endswith('.csv'):\n",
    "        file_path = os.path.join(folder_path, file_name)\n",
    "        \n",
    "        # Read in the CSV file as a DataFrame\n",
    "        df = pd.read_csv(file_path)\n",
    "        print(file_name,':',df.info())"
   ]
  },
  {
   "cell_type": "code",
   "execution_count": null,
   "id": "c4932e69",
   "metadata": {},
   "outputs": [],
   "source": []
  },
  {
   "cell_type": "code",
   "execution_count": null,
   "id": "29e4f608",
   "metadata": {},
   "outputs": [],
   "source": []
  }
 ],
 "metadata": {
  "kernelspec": {
   "display_name": "Python 3 (ipykernel)",
   "language": "python",
   "name": "python3"
  },
  "language_info": {
   "codemirror_mode": {
    "name": "ipython",
    "version": 3
   },
   "file_extension": ".py",
   "mimetype": "text/x-python",
   "name": "python",
   "nbconvert_exporter": "python",
   "pygments_lexer": "ipython3",
   "version": "3.9.13"
  },
  "toc": {
   "base_numbering": 1,
   "nav_menu": {},
   "number_sections": true,
   "sideBar": true,
   "skip_h1_title": true,
   "title_cell": "Table of Contents",
   "title_sidebar": "Contents",
   "toc_cell": true,
   "toc_position": {
    "height": "calc(100% - 180px)",
    "left": "10px",
    "top": "150px",
    "width": "165px"
   },
   "toc_section_display": true,
   "toc_window_display": true
  },
  "varInspector": {
   "cols": {
    "lenName": 16,
    "lenType": 16,
    "lenVar": 40
   },
   "kernels_config": {
    "python": {
     "delete_cmd_postfix": "",
     "delete_cmd_prefix": "del ",
     "library": "var_list.py",
     "varRefreshCmd": "print(var_dic_list())"
    },
    "r": {
     "delete_cmd_postfix": ") ",
     "delete_cmd_prefix": "rm(",
     "library": "var_list.r",
     "varRefreshCmd": "cat(var_dic_list()) "
    }
   },
   "types_to_exclude": [
    "module",
    "function",
    "builtin_function_or_method",
    "instance",
    "_Feature"
   ],
   "window_display": false
  }
 },
 "nbformat": 4,
 "nbformat_minor": 5
}
